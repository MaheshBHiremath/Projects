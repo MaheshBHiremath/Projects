{
 "cells": [
  {
   "cell_type": "markdown",
   "metadata": {},
   "source": [
    "# Importing data"
   ]
  },
  {
   "cell_type": "code",
   "execution_count": 14,
   "metadata": {},
   "outputs": [
    {
     "data": {
      "text/html": [
       "<div>\n",
       "<style scoped>\n",
       "    .dataframe tbody tr th:only-of-type {\n",
       "        vertical-align: middle;\n",
       "    }\n",
       "\n",
       "    .dataframe tbody tr th {\n",
       "        vertical-align: top;\n",
       "    }\n",
       "\n",
       "    .dataframe thead th {\n",
       "        text-align: right;\n",
       "    }\n",
       "</style>\n",
       "<table border=\"1\" class=\"dataframe\">\n",
       "  <thead>\n",
       "    <tr style=\"text-align: right;\">\n",
       "      <th></th>\n",
       "      <th>age</th>\n",
       "      <th>sex</th>\n",
       "      <th>cp</th>\n",
       "      <th>trestbps</th>\n",
       "      <th>chol</th>\n",
       "      <th>fbs</th>\n",
       "      <th>restecg</th>\n",
       "      <th>thalach</th>\n",
       "      <th>exang</th>\n",
       "      <th>oldpeak</th>\n",
       "      <th>slope</th>\n",
       "      <th>ca</th>\n",
       "      <th>thal</th>\n",
       "      <th>target</th>\n",
       "    </tr>\n",
       "  </thead>\n",
       "  <tbody>\n",
       "    <tr>\n",
       "      <td>0</td>\n",
       "      <td>63.0</td>\n",
       "      <td>1</td>\n",
       "      <td>3.0</td>\n",
       "      <td>145.0</td>\n",
       "      <td>233.0</td>\n",
       "      <td>1</td>\n",
       "      <td>0.0</td>\n",
       "      <td>150.0</td>\n",
       "      <td>0</td>\n",
       "      <td>2.3</td>\n",
       "      <td>0</td>\n",
       "      <td>0</td>\n",
       "      <td>1.0</td>\n",
       "      <td>1</td>\n",
       "    </tr>\n",
       "    <tr>\n",
       "      <td>1</td>\n",
       "      <td>37.0</td>\n",
       "      <td>1</td>\n",
       "      <td>2.0</td>\n",
       "      <td>130.0</td>\n",
       "      <td>NaN</td>\n",
       "      <td>0</td>\n",
       "      <td>1.0</td>\n",
       "      <td>187.0</td>\n",
       "      <td>0</td>\n",
       "      <td>3.5</td>\n",
       "      <td>0</td>\n",
       "      <td>0</td>\n",
       "      <td>2.0</td>\n",
       "      <td>1</td>\n",
       "    </tr>\n",
       "    <tr>\n",
       "      <td>2</td>\n",
       "      <td>41.0</td>\n",
       "      <td>0</td>\n",
       "      <td>1.0</td>\n",
       "      <td>130.0</td>\n",
       "      <td>204.0</td>\n",
       "      <td>0</td>\n",
       "      <td>0.0</td>\n",
       "      <td>172.0</td>\n",
       "      <td>0</td>\n",
       "      <td>1.4</td>\n",
       "      <td>2</td>\n",
       "      <td>0</td>\n",
       "      <td>2.0</td>\n",
       "      <td>1</td>\n",
       "    </tr>\n",
       "    <tr>\n",
       "      <td>3</td>\n",
       "      <td>56.0</td>\n",
       "      <td>1</td>\n",
       "      <td>1.0</td>\n",
       "      <td>120.0</td>\n",
       "      <td>236.0</td>\n",
       "      <td>0</td>\n",
       "      <td>1.0</td>\n",
       "      <td>178.0</td>\n",
       "      <td>0</td>\n",
       "      <td>0.8</td>\n",
       "      <td>2</td>\n",
       "      <td>0</td>\n",
       "      <td>2.0</td>\n",
       "      <td>1</td>\n",
       "    </tr>\n",
       "    <tr>\n",
       "      <td>4</td>\n",
       "      <td>57.0</td>\n",
       "      <td>0</td>\n",
       "      <td>0.0</td>\n",
       "      <td>120.0</td>\n",
       "      <td>354.0</td>\n",
       "      <td>0</td>\n",
       "      <td>1.0</td>\n",
       "      <td>163.0</td>\n",
       "      <td>1</td>\n",
       "      <td>0.6</td>\n",
       "      <td>2</td>\n",
       "      <td>0</td>\n",
       "      <td>2.0</td>\n",
       "      <td>1</td>\n",
       "    </tr>\n",
       "    <tr>\n",
       "      <td>...</td>\n",
       "      <td>...</td>\n",
       "      <td>...</td>\n",
       "      <td>...</td>\n",
       "      <td>...</td>\n",
       "      <td>...</td>\n",
       "      <td>...</td>\n",
       "      <td>...</td>\n",
       "      <td>...</td>\n",
       "      <td>...</td>\n",
       "      <td>...</td>\n",
       "      <td>...</td>\n",
       "      <td>...</td>\n",
       "      <td>...</td>\n",
       "      <td>...</td>\n",
       "    </tr>\n",
       "    <tr>\n",
       "      <td>298</td>\n",
       "      <td>57.0</td>\n",
       "      <td>0</td>\n",
       "      <td>0.0</td>\n",
       "      <td>140.0</td>\n",
       "      <td>241.0</td>\n",
       "      <td>0</td>\n",
       "      <td>1.0</td>\n",
       "      <td>123.0</td>\n",
       "      <td>1</td>\n",
       "      <td>0.2</td>\n",
       "      <td>1</td>\n",
       "      <td>0</td>\n",
       "      <td>3.0</td>\n",
       "      <td>0</td>\n",
       "    </tr>\n",
       "    <tr>\n",
       "      <td>299</td>\n",
       "      <td>45.0</td>\n",
       "      <td>1</td>\n",
       "      <td>3.0</td>\n",
       "      <td>110.0</td>\n",
       "      <td>264.0</td>\n",
       "      <td>0</td>\n",
       "      <td>1.0</td>\n",
       "      <td>132.0</td>\n",
       "      <td>0</td>\n",
       "      <td>1.2</td>\n",
       "      <td>1</td>\n",
       "      <td>0</td>\n",
       "      <td>3.0</td>\n",
       "      <td>0</td>\n",
       "    </tr>\n",
       "    <tr>\n",
       "      <td>300</td>\n",
       "      <td>68.0</td>\n",
       "      <td>1</td>\n",
       "      <td>0.0</td>\n",
       "      <td>144.0</td>\n",
       "      <td>193.0</td>\n",
       "      <td>1</td>\n",
       "      <td>1.0</td>\n",
       "      <td>141.0</td>\n",
       "      <td>0</td>\n",
       "      <td>3.4</td>\n",
       "      <td>1</td>\n",
       "      <td>2</td>\n",
       "      <td>3.0</td>\n",
       "      <td>0</td>\n",
       "    </tr>\n",
       "    <tr>\n",
       "      <td>301</td>\n",
       "      <td>57.0</td>\n",
       "      <td>1</td>\n",
       "      <td>0.0</td>\n",
       "      <td>130.0</td>\n",
       "      <td>131.0</td>\n",
       "      <td>0</td>\n",
       "      <td>1.0</td>\n",
       "      <td>115.0</td>\n",
       "      <td>1</td>\n",
       "      <td>1.2</td>\n",
       "      <td>1</td>\n",
       "      <td>1</td>\n",
       "      <td>3.0</td>\n",
       "      <td>0</td>\n",
       "    </tr>\n",
       "    <tr>\n",
       "      <td>302</td>\n",
       "      <td>57.0</td>\n",
       "      <td>0</td>\n",
       "      <td>1.0</td>\n",
       "      <td>130.0</td>\n",
       "      <td>236.0</td>\n",
       "      <td>0</td>\n",
       "      <td>0.0</td>\n",
       "      <td>174.0</td>\n",
       "      <td>0</td>\n",
       "      <td>0.0</td>\n",
       "      <td>1</td>\n",
       "      <td>1</td>\n",
       "      <td>2.0</td>\n",
       "      <td>0</td>\n",
       "    </tr>\n",
       "  </tbody>\n",
       "</table>\n",
       "<p>303 rows × 14 columns</p>\n",
       "</div>"
      ],
      "text/plain": [
       "      age  sex   cp  trestbps   chol  fbs  restecg  thalach  exang  oldpeak  \\\n",
       "0    63.0    1  3.0     145.0  233.0    1      0.0    150.0      0      2.3   \n",
       "1    37.0    1  2.0     130.0    NaN    0      1.0    187.0      0      3.5   \n",
       "2    41.0    0  1.0     130.0  204.0    0      0.0    172.0      0      1.4   \n",
       "3    56.0    1  1.0     120.0  236.0    0      1.0    178.0      0      0.8   \n",
       "4    57.0    0  0.0     120.0  354.0    0      1.0    163.0      1      0.6   \n",
       "..    ...  ...  ...       ...    ...  ...      ...      ...    ...      ...   \n",
       "298  57.0    0  0.0     140.0  241.0    0      1.0    123.0      1      0.2   \n",
       "299  45.0    1  3.0     110.0  264.0    0      1.0    132.0      0      1.2   \n",
       "300  68.0    1  0.0     144.0  193.0    1      1.0    141.0      0      3.4   \n",
       "301  57.0    1  0.0     130.0  131.0    0      1.0    115.0      1      1.2   \n",
       "302  57.0    0  1.0     130.0  236.0    0      0.0    174.0      0      0.0   \n",
       "\n",
       "     slope  ca  thal  target  \n",
       "0        0   0   1.0       1  \n",
       "1        0   0   2.0       1  \n",
       "2        2   0   2.0       1  \n",
       "3        2   0   2.0       1  \n",
       "4        2   0   2.0       1  \n",
       "..     ...  ..   ...     ...  \n",
       "298      1   0   3.0       0  \n",
       "299      1   0   3.0       0  \n",
       "300      1   2   3.0       0  \n",
       "301      1   1   3.0       0  \n",
       "302      1   1   2.0       0  \n",
       "\n",
       "[303 rows x 14 columns]"
      ]
     },
     "execution_count": 14,
     "metadata": {},
     "output_type": "execute_result"
    }
   ],
   "source": [
    "import pandas as pd\n",
    "df=pd.read_csv(\"heart_dataset_updated.csv\")\n",
    "df"
   ]
  },
  {
   "cell_type": "markdown",
   "metadata": {},
   "source": [
    "# Data Cleaning"
   ]
  },
  {
   "cell_type": "code",
   "execution_count": 15,
   "metadata": {},
   "outputs": [
    {
     "data": {
      "text/plain": [
       "age         4\n",
       "sex         0\n",
       "cp          6\n",
       "trestbps    4\n",
       "chol        4\n",
       "fbs         0\n",
       "restecg     1\n",
       "thalach     3\n",
       "exang       0\n",
       "oldpeak     0\n",
       "slope       0\n",
       "ca          0\n",
       "thal        1\n",
       "target      0\n",
       "dtype: int64"
      ]
     },
     "execution_count": 15,
     "metadata": {},
     "output_type": "execute_result"
    }
   ],
   "source": [
    "df.isna().sum()"
   ]
  },
  {
   "cell_type": "code",
   "execution_count": 16,
   "metadata": {},
   "outputs": [
    {
     "data": {
      "text/plain": [
       "age         float64\n",
       "sex           int64\n",
       "cp          float64\n",
       "trestbps    float64\n",
       "chol        float64\n",
       "fbs           int64\n",
       "restecg     float64\n",
       "thalach     float64\n",
       "exang         int64\n",
       "oldpeak     float64\n",
       "slope         int64\n",
       "ca            int64\n",
       "thal        float64\n",
       "target        int64\n",
       "dtype: object"
      ]
     },
     "execution_count": 16,
     "metadata": {},
     "output_type": "execute_result"
    }
   ],
   "source": [
    "df.dtypes"
   ]
  },
  {
   "cell_type": "code",
   "execution_count": 17,
   "metadata": {},
   "outputs": [],
   "source": [
    "df['age']=df['age'].fillna(df['age'].mean())\n",
    "df['age']=df['age'].astype(float)\n",
    "#df['target'].dtype\n",
    "#df['slope'].groupby(df['slope']).first()"
   ]
  },
  {
   "cell_type": "code",
   "execution_count": 18,
   "metadata": {},
   "outputs": [],
   "source": [
    "df['cp']=df['cp'].fillna(df['cp'].mean())\n",
    "df['cp']=df['cp'].astype(float)"
   ]
  },
  {
   "cell_type": "code",
   "execution_count": 19,
   "metadata": {},
   "outputs": [],
   "source": [
    "df['trestbps']=df['trestbps'].fillna(df['trestbps'].mean())\n",
    "df['trestbps']=df['trestbps'].astype(float)"
   ]
  },
  {
   "cell_type": "code",
   "execution_count": 20,
   "metadata": {},
   "outputs": [],
   "source": [
    "df['chol']=df['chol'].fillna(df['chol'].mean())\n",
    "df['chol']=df['chol'].astype(float)"
   ]
  },
  {
   "cell_type": "code",
   "execution_count": 21,
   "metadata": {},
   "outputs": [],
   "source": [
    "df['restecg']=df['restecg'].fillna(0)\n",
    "df['restecg']=df['restecg'].astype(float)"
   ]
  },
  {
   "cell_type": "code",
   "execution_count": 22,
   "metadata": {},
   "outputs": [],
   "source": [
    "df['thalach']=df['thalach'].fillna(df['thalach'].mean())\n",
    "df['thalach']=df['thalach'].astype(float)"
   ]
  },
  {
   "cell_type": "code",
   "execution_count": 23,
   "metadata": {},
   "outputs": [],
   "source": [
    "df['thal'].groupby(df['thal']).first()\n",
    "df['thal']=df['thal'].fillna(2)\n",
    "df['thal']=df['thal'].astype(float)"
   ]
  },
  {
   "cell_type": "code",
   "execution_count": 24,
   "metadata": {},
   "outputs": [
    {
     "data": {
      "text/plain": [
       "target\n",
       "0    0\n",
       "1    1\n",
       "Name: target, dtype: int64"
      ]
     },
     "execution_count": 24,
     "metadata": {},
     "output_type": "execute_result"
    }
   ],
   "source": [
    "df['target'].groupby(df['target']).first()"
   ]
  },
  {
   "cell_type": "code",
   "execution_count": 25,
   "metadata": {},
   "outputs": [],
   "source": [
    "x=df.drop(columns='target')\n",
    "y=df['target']\n",
    "#print(y)"
   ]
  },
  {
   "cell_type": "markdown",
   "metadata": {},
   "source": [
    "# Logistic Regression"
   ]
  },
  {
   "cell_type": "code",
   "execution_count": 26,
   "metadata": {},
   "outputs": [
    {
     "name": "stdout",
     "output_type": "stream",
     "text": [
      "For i: 1\n",
      "Accuracy score:  0.8552631578947368\n",
      "Confusion matrix:\n",
      " [[25  8]\n",
      " [ 3 40]]\n",
      "Classification report:\n",
      "               precision    recall  f1-score   support\n",
      "\n",
      "           0       0.89      0.76      0.82        33\n",
      "           1       0.83      0.93      0.88        43\n",
      "\n",
      "    accuracy                           0.86        76\n",
      "   macro avg       0.86      0.84      0.85        76\n",
      "weighted avg       0.86      0.86      0.85        76\n",
      "\n",
      "For i: 2\n",
      "Accuracy score:  0.8552631578947368\n",
      "Confusion matrix:\n",
      " [[25  8]\n",
      " [ 3 40]]\n",
      "Classification report:\n",
      "               precision    recall  f1-score   support\n",
      "\n",
      "           0       0.89      0.76      0.82        33\n",
      "           1       0.83      0.93      0.88        43\n",
      "\n",
      "    accuracy                           0.86        76\n",
      "   macro avg       0.86      0.84      0.85        76\n",
      "weighted avg       0.86      0.86      0.85        76\n",
      "\n",
      "For i: 3\n",
      "Accuracy score:  0.8552631578947368\n",
      "Confusion matrix:\n",
      " [[25  8]\n",
      " [ 3 40]]\n",
      "Classification report:\n",
      "               precision    recall  f1-score   support\n",
      "\n",
      "           0       0.89      0.76      0.82        33\n",
      "           1       0.83      0.93      0.88        43\n",
      "\n",
      "    accuracy                           0.86        76\n",
      "   macro avg       0.86      0.84      0.85        76\n",
      "weighted avg       0.86      0.86      0.85        76\n",
      "\n",
      "For i: 4\n",
      "Accuracy score:  0.8552631578947368\n",
      "Confusion matrix:\n",
      " [[25  8]\n",
      " [ 3 40]]\n",
      "Classification report:\n",
      "               precision    recall  f1-score   support\n",
      "\n",
      "           0       0.89      0.76      0.82        33\n",
      "           1       0.83      0.93      0.88        43\n",
      "\n",
      "    accuracy                           0.86        76\n",
      "   macro avg       0.86      0.84      0.85        76\n",
      "weighted avg       0.86      0.86      0.85        76\n",
      "\n",
      "For i: 5\n",
      "Accuracy score:  0.8552631578947368\n",
      "Confusion matrix:\n",
      " [[25  8]\n",
      " [ 3 40]]\n",
      "Classification report:\n",
      "               precision    recall  f1-score   support\n",
      "\n",
      "           0       0.89      0.76      0.82        33\n",
      "           1       0.83      0.93      0.88        43\n",
      "\n",
      "    accuracy                           0.86        76\n",
      "   macro avg       0.86      0.84      0.85        76\n",
      "weighted avg       0.86      0.86      0.85        76\n",
      "\n",
      "For i: 6\n",
      "Accuracy score:  0.8552631578947368\n",
      "Confusion matrix:\n",
      " [[25  8]\n",
      " [ 3 40]]\n",
      "Classification report:\n",
      "               precision    recall  f1-score   support\n",
      "\n",
      "           0       0.89      0.76      0.82        33\n",
      "           1       0.83      0.93      0.88        43\n",
      "\n",
      "    accuracy                           0.86        76\n",
      "   macro avg       0.86      0.84      0.85        76\n",
      "weighted avg       0.86      0.86      0.85        76\n",
      "\n",
      "For i: 7\n",
      "Accuracy score:  0.8552631578947368\n",
      "Confusion matrix:\n",
      " [[25  8]\n",
      " [ 3 40]]\n",
      "Classification report:\n",
      "               precision    recall  f1-score   support\n",
      "\n",
      "           0       0.89      0.76      0.82        33\n",
      "           1       0.83      0.93      0.88        43\n",
      "\n",
      "    accuracy                           0.86        76\n",
      "   macro avg       0.86      0.84      0.85        76\n",
      "weighted avg       0.86      0.86      0.85        76\n",
      "\n",
      "For i: 8\n",
      "Accuracy score:  0.8552631578947368\n",
      "Confusion matrix:\n",
      " [[25  8]\n",
      " [ 3 40]]\n",
      "Classification report:\n",
      "               precision    recall  f1-score   support\n",
      "\n",
      "           0       0.89      0.76      0.82        33\n",
      "           1       0.83      0.93      0.88        43\n",
      "\n",
      "    accuracy                           0.86        76\n",
      "   macro avg       0.86      0.84      0.85        76\n",
      "weighted avg       0.86      0.86      0.85        76\n",
      "\n",
      "For i: 9\n",
      "Accuracy score:  0.8552631578947368\n",
      "Confusion matrix:\n",
      " [[25  8]\n",
      " [ 3 40]]\n",
      "Classification report:\n",
      "               precision    recall  f1-score   support\n",
      "\n",
      "           0       0.89      0.76      0.82        33\n",
      "           1       0.83      0.93      0.88        43\n",
      "\n",
      "    accuracy                           0.86        76\n",
      "   macro avg       0.86      0.84      0.85        76\n",
      "weighted avg       0.86      0.86      0.85        76\n",
      "\n"
     ]
    }
   ],
   "source": [
    "from sklearn.model_selection import train_test_split\n",
    "X_train,X_test,Y_train,Y_test=train_test_split(x,y,test_size=0.25)\n",
    "from sklearn import preprocessing\n",
    "acc_list=[]\n",
    "for i in range(1,10):\n",
    "    print(\"For i:\",i)\n",
    "    from sklearn.linear_model import LogisticRegression\n",
    "    lr=LogisticRegression(max_iter=1000)\n",
    "    lr.fit(X_train,Y_train)\n",
    "    predt=lr.predict(X_test)\n",
    "    #print(predt)\n",
    "\n",
    "    from sklearn.metrics import accuracy_score,classification_report,confusion_matrix\n",
    "    cm=confusion_matrix(Y_test,predt)\n",
    "    acc=accuracy_score(predt,Y_test)\n",
    "    acc_list.append(acc)\n",
    "    cr=classification_report(Y_test,predt)\n",
    "    print('Accuracy score: ',acc)\n",
    "    print('Confusion matrix:\\n',cm)\n",
    "    print('Classification report:\\n',cr)"
   ]
  },
  {
   "cell_type": "code",
   "execution_count": 27,
   "metadata": {},
   "outputs": [
    {
     "name": "stdout",
     "output_type": "stream",
     "text": [
      "0.8552631578947368\n"
     ]
    }
   ],
   "source": [
    "print(max(acc_list))"
   ]
  },
  {
   "cell_type": "markdown",
   "metadata": {},
   "source": [
    "i=2 and i=5 are identical but f1-score for i=5 is more, therefore random_state=5 is best suited for LR with accuracy=0.8947"
   ]
  },
  {
   "cell_type": "markdown",
   "metadata": {},
   "source": [
    "# K-Nearest Neighbours"
   ]
  },
  {
   "cell_type": "code",
   "execution_count": 28,
   "metadata": {},
   "outputs": [
    {
     "name": "stdout",
     "output_type": "stream",
     "text": [
      "[0 1 0 0 1 1 0 0 0 0 1 1 0 1 1 1 0 1 0 1 1 0 0 0 0 0 1 0 1 1 1 1 1 0 1 0 0\n",
      " 1 0 1 0 1 1 0 1 1 1 1 0 1 1 0 1 0 1 0 1 1 1 1 0 1 1 1 0 1 1 1 1 1 1 1 1 1\n",
      " 0 0]\n",
      "Accuracy score:  0.75\n"
     ]
    }
   ],
   "source": [
    "from sklearn.model_selection import train_test_split\n",
    "X_train,X_test,Y_train,Y_test=train_test_split(x,y,random_state=0,test_size=0.25)\n",
    "\n",
    "from sklearn.neighbors import KNeighborsClassifier\n",
    "kn=KNeighborsClassifier(n_neighbors=11,weights='uniform') #n_neighbors=11 is random int\n",
    "                        \n",
    "kn.fit(X_train,Y_train)\n",
    "kn_predt=kn.predict(X_test)\n",
    "print(kn_predt)\n",
    "\n",
    "kn_score=accuracy_score(kn_predt,Y_test)\n",
    "print(\"Accuracy score: \",kn_score)"
   ]
  },
  {
   "cell_type": "code",
   "execution_count": 29,
   "metadata": {},
   "outputs": [
    {
     "name": "stdout",
     "output_type": "stream",
     "text": [
      "Error:\n",
      " [0.4342105263157895, 0.4342105263157895, 0.34210526315789475, 0.34210526315789475, 0.35526315789473684, 0.34210526315789475, 0.3684210526315789, 0.32894736842105265, 0.3157894736842105, 0.32894736842105265, 0.32894736842105265, 0.3026315789473684, 0.2894736842105263, 0.27631578947368424, 0.3157894736842105, 0.2894736842105263, 0.3157894736842105, 0.27631578947368424, 0.3026315789473684, 0.2894736842105263, 0.3157894736842105, 0.3157894736842105, 0.3157894736842105, 0.2894736842105263, 0.3026315789473684, 0.2894736842105263, 0.2894736842105263, 0.2894736842105263, 0.3157894736842105, 0.2894736842105263, 0.27631578947368424, 0.3026315789473684, 0.3026315789473684, 0.2894736842105263, 0.27631578947368424, 0.27631578947368424, 0.27631578947368424, 0.2631578947368421, 0.27631578947368424]\n"
     ]
    }
   ],
   "source": [
    "#Calculating error for K-value\n",
    "#1. for weights='distance'\n",
    "import numpy as np\n",
    "error=[]\n",
    "for i in range(1,40):\n",
    "    kn=KNeighborsClassifier(n_neighbors=i,weights='distance')\n",
    "    kn.fit(X_train,Y_train)\n",
    "    kn_predt=kn.predict(X_test)\n",
    "    #print(kn_predt)\n",
    "    error.append(np.mean(kn_predt!=Y_test))\n",
    "print(\"Error:\\n\",error)"
   ]
  },
  {
   "cell_type": "code",
   "execution_count": 30,
   "metadata": {},
   "outputs": [
    {
     "data": {
      "text/plain": [
       "Text(0, 0.5, 'Mean Error')"
      ]
     },
     "execution_count": 30,
     "metadata": {},
     "output_type": "execute_result"
    },
    {
     "data": {
      "image/png": "[encoded data removed]",
      "text/plain": [
       "<Figure size 864x432 with 1 Axes>"
      ]
     },
     "metadata": {
      "needs_background": "dark"
     },
     "output_type": "display_data"
    }
   ],
   "source": [
    "import matplotlib.pyplot as plt\n",
    "plt.figure(figsize=(12, 6))\n",
    "plt.plot(range(1,40),error,color='r',linestyle='dashed',marker='o',markersize=10)\n",
    "plt.title('Error rate for K-value')\n",
    "plt.xlabel('K Value')\n",
    "plt.ylabel('Mean Error')"
   ]
  },
  {
   "cell_type": "code",
   "execution_count": 31,
   "metadata": {},
   "outputs": [
    {
     "data": {
      "text/plain": [
       "Text(0, 0.5, 'Mean Error')"
      ]
     },
     "execution_count": 31,
     "metadata": {},
     "output_type": "execute_result"
    },
    {
     "data": {
      "image/png": "[encoded data removed]",
      "text/plain": [
       "<Figure size 864x432 with 1 Axes>"
      ]
     },
     "metadata": {
      "needs_background": "dark"
     },
     "output_type": "display_data"
    }
   ],
   "source": [
    "#2. for weights='uniform'\n",
    "import numpy as np\n",
    "error=[]\n",
    "for i in range(1,40):\n",
    "    kn=KNeighborsClassifier(n_neighbors=i,weights='uniform')\n",
    "    kn.fit(X_train,Y_train)\n",
    "    kn_predt=kn.predict(X_test)\n",
    "    #print(kn_predt)\n",
    "    error.append(np.mean(kn_predt!=Y_test))\n",
    "#print(\"Error:\\n\",error)\n",
    "import matplotlib.pyplot as plt\n",
    "plt.figure(figsize=(12, 6))\n",
    "plt.plot(range(1,40),error,color='r',linestyle='dashed',marker='o',markersize=10)\n",
    "plt.title('Error rate for K-value')\n",
    "plt.xlabel('K Value')\n",
    "plt.ylabel('Mean Error')"
   ]
  },
  {
   "cell_type": "code",
   "execution_count": 32,
   "metadata": {},
   "outputs": [
    {
     "data": {
      "text/plain": [
       "Text(0, 0.5, 'Mean Error')"
      ]
     },
     "execution_count": 32,
     "metadata": {},
     "output_type": "execute_result"
    },
    {
     "data": {
      "image/png": "[encoded data removed]",
      "text/plain": [
       "<Figure size 864x432 with 1 Axes>"
      ]
     },
     "metadata": {
      "needs_background": "dark"
     },
     "output_type": "display_data"
    }
   ],
   "source": [
    "#3. for metric='euclidean'\n",
    "import numpy as np\n",
    "error=[]\n",
    "for i in range(1,40):\n",
    "    kn=KNeighborsClassifier(n_neighbors=i,metric='euclidean')\n",
    "    kn.fit(X_train,Y_train)\n",
    "    kn_predt=kn.predict(X_test)\n",
    "    #print(kn_predt)\n",
    "    error.append(np.mean(kn_predt!=Y_test))\n",
    "#print(\"Error:\\n\",error)\n",
    "import matplotlib.pyplot as plt\n",
    "plt.figure(figsize=(12, 6))\n",
    "plt.plot(range(1,40),error,color='r',linestyle='dashed',marker='o',markersize=10)\n",
    "plt.title('Error rate for K-value')\n",
    "plt.xlabel('K Value')\n",
    "plt.ylabel('Mean Error')"
   ]
  },
  {
   "cell_type": "markdown",
   "metadata": {},
   "source": [
    "for k=38 KNN gives more accurate and less error output"
   ]
  },
  {
   "cell_type": "code",
   "execution_count": 33,
   "metadata": {},
   "outputs": [
    {
     "name": "stdout",
     "output_type": "stream",
     "text": [
      "[0 1 1 0 0 1 0 1 0 0 1 1 0 1 1 1 0 1 0 1 1 0 0 0 1 0 1 0 1 1 1 0 1 1 1 0 0\n",
      " 1 0 1 1 1 1 0 1 1 1 1 0 1 1 0 1 0 1 0 0 1 1 1 0 1 1 1 0 1 1 1 1 1 1 1 1 0\n",
      " 0 0]\n",
      "Accuracy score:  0.7631578947368421\n"
     ]
    }
   ],
   "source": [
    "kn=KNeighborsClassifier(n_neighbors=38,weights='uniform') \n",
    "                        \n",
    "kn.fit(X_train,Y_train)\n",
    "kn_predt=kn.predict(X_test)\n",
    "print(kn_predt)\n",
    "\n",
    "kn_score=accuracy_score(kn_predt,Y_test)\n",
    "print(\"Accuracy score: \",kn_score)"
   ]
  },
  {
   "cell_type": "markdown",
   "metadata": {},
   "source": [
    "# Decision Tree Classifier"
   ]
  },
  {
   "cell_type": "code",
   "execution_count": 34,
   "metadata": {},
   "outputs": [
    {
     "name": "stdout",
     "output_type": "stream",
     "text": [
      "for i: 1\n",
      "[0 1 1 0 0 1 0 0 0 0 1 1 0 1 1 1 0 1 0 1 1 0 0 0 0 1 0 0 1 1 0 0 1 1 1 1 0\n",
      " 1 0 0 1 0 1 0 1 0 1 1 0 1 1 1 1 1 1 0 1 1 0 1 1 1 1 1 1 1 1 0 1 1 1 1 1 0\n",
      " 0 0]\n",
      "Accuracy score:  0.7894736842105263\n",
      "for i: 2\n",
      "[0 1 1 0 0 0 0 0 0 0 1 1 0 1 1 1 0 1 0 1 1 0 0 0 0 1 0 0 1 1 0 0 1 1 1 1 0\n",
      " 1 0 0 1 0 1 0 1 0 1 1 0 1 1 1 1 1 1 0 1 1 0 1 1 1 1 1 1 1 1 0 1 1 1 1 1 0\n",
      " 0 0]\n",
      "Accuracy score:  0.8026315789473685\n",
      "for i: 3\n",
      "[0 1 1 0 0 0 0 0 0 0 1 1 0 1 1 1 0 1 0 1 1 0 0 0 0 1 0 0 1 1 0 0 1 1 1 1 0\n",
      " 1 0 0 1 0 1 0 1 0 1 1 0 1 1 1 1 1 1 0 1 1 0 1 1 1 1 1 1 1 1 0 1 1 1 1 1 0\n",
      " 0 0]\n",
      "Accuracy score:  0.8026315789473685\n",
      "for i: 4\n",
      "[0 1 1 0 0 0 0 0 0 0 1 1 0 1 1 1 0 1 0 1 1 0 0 0 1 1 0 0 1 1 0 0 1 1 1 1 0\n",
      " 1 0 0 1 0 1 0 1 0 1 1 0 1 1 1 1 1 1 0 1 1 0 1 1 1 1 1 1 1 1 0 1 1 1 1 1 0\n",
      " 0 0]\n",
      "Accuracy score:  0.8157894736842105\n",
      "for i: 5\n",
      "[0 1 1 0 0 1 0 0 0 0 1 1 0 1 1 1 0 1 0 1 1 0 0 0 0 1 0 0 1 1 0 0 1 1 1 1 0\n",
      " 1 0 0 1 0 1 0 1 0 1 1 0 1 1 1 1 1 1 0 1 1 0 1 1 1 1 1 0 1 1 0 1 1 1 1 1 0\n",
      " 0 0]\n",
      "Accuracy score:  0.8026315789473685\n",
      "for i: 6\n",
      "[0 1 1 0 0 0 0 0 0 0 1 1 0 1 1 1 0 1 0 1 1 0 0 0 1 1 0 0 1 1 0 0 1 1 1 1 0\n",
      " 1 0 0 1 0 1 0 1 1 1 1 0 1 1 1 1 1 1 0 1 1 0 1 1 1 1 1 1 1 1 0 1 1 1 1 1 0\n",
      " 0 0]\n",
      "Accuracy score:  0.8289473684210527\n",
      "for i: 7\n",
      "[0 1 1 0 0 0 0 0 0 0 1 1 0 1 1 1 0 1 0 1 1 0 0 0 0 1 0 0 1 1 0 0 1 1 1 1 0\n",
      " 1 0 0 1 0 1 0 1 1 1 1 0 1 1 1 1 1 1 0 1 1 0 1 1 1 1 1 1 1 1 0 1 1 1 1 1 0\n",
      " 0 0]\n",
      "Accuracy score:  0.8157894736842105\n",
      "for i: 8\n",
      "[0 1 1 0 0 1 0 0 0 0 1 1 0 1 1 1 0 1 0 1 1 0 0 0 0 1 0 0 1 1 0 0 1 1 1 1 0\n",
      " 1 0 0 1 0 1 0 1 0 1 1 0 1 1 1 1 1 1 0 1 1 0 1 1 1 1 1 1 1 1 0 1 1 1 1 1 0\n",
      " 0 0]\n",
      "Accuracy score:  0.7894736842105263\n",
      "for i: 9\n",
      "[0 1 1 0 0 1 0 0 0 0 1 1 0 1 1 1 0 1 0 1 1 0 0 0 0 1 0 0 1 1 0 0 1 1 1 1 0\n",
      " 1 0 0 1 0 1 0 1 0 1 1 0 1 1 1 1 1 1 0 1 1 0 1 1 1 1 1 1 1 1 0 1 1 1 1 1 0\n",
      " 0 0]\n",
      "Accuracy score:  0.7894736842105263\n"
     ]
    }
   ],
   "source": [
    "from sklearn.tree import DecisionTreeClassifier\n",
    "acc_listd=[]\n",
    "for i in range(1,10):\n",
    "    print(\"for i:\",i)\n",
    "    dt=DecisionTreeClassifier(random_state=i)\n",
    "    dt.fit(X_train,Y_train)\n",
    "    dt_predt=dt.predict(X_test)\n",
    "    print(dt_predt)\n",
    "\n",
    "    dt_score=accuracy_score(dt_predt,Y_test)\n",
    "    acc_listd.append(dt_score)\n",
    "    print(\"Accuracy score: \",dt_score)"
   ]
  },
  {
   "cell_type": "code",
   "execution_count": 35,
   "metadata": {},
   "outputs": [
    {
     "name": "stdout",
     "output_type": "stream",
     "text": [
      "Accuracy max:  0.8289473684210527\n"
     ]
    }
   ],
   "source": [
    "print(\"Accuracy max: \",max(acc_listd))"
   ]
  },
  {
   "cell_type": "markdown",
   "metadata": {},
   "source": [
    "# Random Forest"
   ]
  },
  {
   "cell_type": "code",
   "execution_count": 36,
   "metadata": {},
   "outputs": [
    {
     "name": "stdout",
     "output_type": "stream",
     "text": [
      "[0 1 1 0 0 1 0 0 0 0 1 1 0 1 1 1 0 1 0 1 1 0 0 0 1 0 0 0 1 1 1 0 1 1 1 1 0\n",
      " 1 0 0 1 1 1 0 1 1 1 0 0 1 1 1 1 1 1 0 1 1 1 1 1 1 1 1 1 1 1 0 1 1 1 1 1 0\n",
      " 0 1]\n",
      "Accuracy score:  0.868421052631579\n",
      "classification report:\n",
      "               precision    recall  f1-score   support\n",
      "\n",
      "           0       0.93      0.76      0.83        33\n",
      "           1       0.84      0.95      0.89        43\n",
      "\n",
      "    accuracy                           0.87        76\n",
      "   macro avg       0.88      0.86      0.86        76\n",
      "weighted avg       0.88      0.87      0.87        76\n",
      "\n"
     ]
    }
   ],
   "source": [
    "from sklearn.ensemble import RandomForestClassifier\n",
    "rf=RandomForestClassifier(n_estimators=500,random_state=0)#n_estimators=10 is random int,random_state is default\n",
    "rf.fit(X_train,Y_train)\n",
    "rf_predt=rf.predict(X_test)\n",
    "print(rf_predt)\n",
    "\n",
    "rf_acc=accuracy_score(rf_predt,Y_test)\n",
    "print(\"Accuracy score: \",rf_acc)\n",
    "rf_cr=classification_report(Y_test,rf_predt)\n",
    "print(\"classification report:\\n\", rf_cr)"
   ]
  },
  {
   "cell_type": "code",
   "execution_count": 37,
   "metadata": {},
   "outputs": [],
   "source": [
    "est=[]\n",
    "for i in range(1,100):\n",
    "    rf=RandomForestClassifier(n_estimators=i,random_state=0)\n",
    "    rf.fit(X_train,Y_train)\n",
    "    rf_predt=rf.predict(X_test)\n",
    "    est.append(np.mean(rf_predt!= Y_test))\n",
    "#print(est)"
   ]
  },
  {
   "cell_type": "code",
   "execution_count": 38,
   "metadata": {},
   "outputs": [
    {
     "data": {
      "text/plain": [
       "[<matplotlib.lines.Line2D at 0x208d95d5f28>]"
      ]
     },
     "execution_count": 38,
     "metadata": {},
     "output_type": "execute_result"
    },
    {
     "data": {
      "image/png": "[encoded data removed]",
      "text/plain": [
       "<Figure size 1440x432 with 1 Axes>"
      ]
     },
     "metadata": {
      "needs_background": "dark"
     },
     "output_type": "display_data"
    }
   ],
   "source": [
    "plt.figure(figsize=(20,6))\n",
    "plt.plot(range(1,100),est,color='b',marker='o',linestyle='dashed',markersize=10)"
   ]
  },
  {
   "cell_type": "markdown",
   "metadata": {},
   "source": [
    "Based on the above graph n_estimator=17,19,38,40,42 gives high accuracy and less error"
   ]
  },
  {
   "cell_type": "code",
   "execution_count": 39,
   "metadata": {
    "scrolled": true
   },
   "outputs": [
    {
     "name": "stdout",
     "output_type": "stream",
     "text": [
      "for est:  17\n",
      "[0 1 0 0 0 0 0 0 0 0 1 1 0 1 1 1 0 1 0 1 1 0 0 0 1 0 0 0 1 1 0 0 1 1 1 1 0\n",
      " 1 0 0 1 1 1 0 1 1 1 0 0 1 1 1 1 1 1 0 1 1 1 1 1 1 1 1 1 1 1 0 1 1 1 1 1 0\n",
      " 0 1]\n",
      "Accuracy score:  0.9078947368421053\n",
      "classification report:\n",
      "               precision    recall  f1-score   support\n",
      "\n",
      "           0       0.93      0.85      0.89        33\n",
      "           1       0.89      0.95      0.92        43\n",
      "\n",
      "    accuracy                           0.91        76\n",
      "   macro avg       0.91      0.90      0.91        76\n",
      "weighted avg       0.91      0.91      0.91        76\n",
      "\n",
      "for est:  19\n",
      "[0 1 0 0 0 0 0 0 0 0 1 1 0 1 1 1 0 1 0 1 1 0 0 0 1 0 0 0 1 1 0 0 1 1 1 1 0\n",
      " 1 0 0 1 1 1 0 1 1 1 0 0 1 1 1 1 1 1 0 1 1 1 1 1 1 1 1 1 1 1 0 1 1 1 1 1 0\n",
      " 0 1]\n",
      "Accuracy score:  0.9078947368421053\n",
      "classification report:\n",
      "               precision    recall  f1-score   support\n",
      "\n",
      "           0       0.93      0.85      0.89        33\n",
      "           1       0.89      0.95      0.92        43\n",
      "\n",
      "    accuracy                           0.91        76\n",
      "   macro avg       0.91      0.90      0.91        76\n",
      "weighted avg       0.91      0.91      0.91        76\n",
      "\n",
      "for est:  38\n",
      "[0 1 0 0 0 0 0 0 0 0 1 1 0 1 1 1 0 1 0 1 1 0 0 0 1 0 0 0 1 1 0 0 1 1 1 1 0\n",
      " 1 0 0 1 1 1 0 1 1 1 0 0 1 1 1 1 1 1 0 1 1 1 1 1 1 1 1 1 1 1 0 1 1 1 1 1 0\n",
      " 0 1]\n",
      "Accuracy score:  0.9078947368421053\n",
      "classification report:\n",
      "               precision    recall  f1-score   support\n",
      "\n",
      "           0       0.93      0.85      0.89        33\n",
      "           1       0.89      0.95      0.92        43\n",
      "\n",
      "    accuracy                           0.91        76\n",
      "   macro avg       0.91      0.90      0.91        76\n",
      "weighted avg       0.91      0.91      0.91        76\n",
      "\n",
      "for est:  40\n",
      "[0 1 0 0 0 0 0 0 0 0 1 1 0 1 1 1 0 1 0 1 1 0 0 0 1 0 0 0 1 1 0 0 1 1 1 1 0\n",
      " 1 0 0 1 1 1 0 1 1 1 0 0 1 1 1 1 1 1 0 1 1 1 1 1 1 1 1 1 1 1 0 1 1 1 1 1 0\n",
      " 0 1]\n",
      "Accuracy score:  0.9078947368421053\n",
      "classification report:\n",
      "               precision    recall  f1-score   support\n",
      "\n",
      "           0       0.93      0.85      0.89        33\n",
      "           1       0.89      0.95      0.92        43\n",
      "\n",
      "    accuracy                           0.91        76\n",
      "   macro avg       0.91      0.90      0.91        76\n",
      "weighted avg       0.91      0.91      0.91        76\n",
      "\n",
      "for est:  42\n",
      "[0 1 0 0 0 0 0 0 0 0 1 1 0 1 1 1 0 1 0 1 1 0 0 0 1 0 0 0 1 1 0 0 1 1 1 1 0\n",
      " 1 0 0 1 1 1 0 1 1 1 0 0 1 1 1 1 1 1 0 1 1 1 1 1 1 1 1 1 1 1 0 1 1 1 1 1 0\n",
      " 0 1]\n",
      "Accuracy score:  0.9078947368421053\n",
      "classification report:\n",
      "               precision    recall  f1-score   support\n",
      "\n",
      "           0       0.93      0.85      0.89        33\n",
      "           1       0.89      0.95      0.92        43\n",
      "\n",
      "    accuracy                           0.91        76\n",
      "   macro avg       0.91      0.90      0.91        76\n",
      "weighted avg       0.91      0.91      0.91        76\n",
      "\n"
     ]
    }
   ],
   "source": [
    "from sklearn.ensemble import RandomForestClassifier\n",
    "est=[17,19,38,40,42]\n",
    "acc_rf=[]\n",
    "for i in est:\n",
    "    print(\"for est: \",i)\n",
    "    rf=RandomForestClassifier(n_estimators=i,random_state=0)\n",
    "    rf.fit(X_train,Y_train)\n",
    "    rf_predt=rf.predict(X_test)\n",
    "    print(rf_predt)\n",
    "\n",
    "    rf_acc=accuracy_score(rf_predt,Y_test)\n",
    "    acc_rf.append(rf_acc)\n",
    "    print(\"Accuracy score: \",rf_acc)\n",
    "    rf_cr=classification_report(Y_test,rf_predt)\n",
    "    print(\"classification report:\\n\", rf_cr)"
   ]
  },
  {
   "cell_type": "code",
   "execution_count": 40,
   "metadata": {},
   "outputs": [
    {
     "name": "stdout",
     "output_type": "stream",
     "text": [
      "Accuracy max:  0.9078947368421053\n"
     ]
    }
   ],
   "source": [
    "print(\"Accuracy max: \",max(acc_rf))"
   ]
  },
  {
   "cell_type": "markdown",
   "metadata": {},
   "source": [
    "# SVM"
   ]
  },
  {
   "cell_type": "code",
   "execution_count": 41,
   "metadata": {},
   "outputs": [
    {
     "name": "stdout",
     "output_type": "stream",
     "text": [
      "Accuracy score:  0.7631578947368421\n"
     ]
    }
   ],
   "source": [
    "from sklearn.svm import SVC\n",
    "sv=SVC(kernel='linear',C=0.001)\n",
    "sv.fit(X_train,Y_train)\n",
    "sv_predt=sv.predict(X_test)\n",
    "sv_acc=accuracy_score(sv_predt,Y_test)\n",
    "print(\"Accuracy score: \",sv_acc)"
   ]
  },
  {
   "cell_type": "code",
   "execution_count": 42,
   "metadata": {},
   "outputs": [
    {
     "name": "stdout",
     "output_type": "stream",
     "text": [
      "   index              Algorithms  Accuracy\n",
      "0      3  RandomForestClassifier  0.907895\n",
      "1      0     Logistic Regression  0.855263\n",
      "2      2  DecisionTreeClassifier  0.828947\n",
      "3      1                     KNN  0.763158\n",
      "4      4                     SVM  0.763158\n"
     ]
    }
   ],
   "source": [
    "df={'Algorithms':['Logistic Regression','KNN','DecisionTreeClassifier','RandomForestClassifier','SVM'],\n",
    "   'Accuracy':[max(acc_list),kn_score,max(acc_listd),max(acc_rf),sv_acc]}\n",
    "df=pd.DataFrame(df)\n",
    "print(df.sort_values(by='Accuracy',ascending=False).reset_index())"
   ]
  },
  {
   "cell_type": "code",
   "execution_count": null,
   "metadata": {},
   "outputs": [],
   "source": []
  }
 ],
 "metadata": {
  "kernelspec": {
   "display_name": "Python 3",
   "language": "python",
   "name": "python3"
  },
  "language_info": {
   "codemirror_mode": {
    "name": "ipython",
    "version": 3
   },
   "file_extension": ".py",
   "mimetype": "text/x-python",
   "name": "python",
   "nbconvert_exporter": "python",
   "pygments_lexer": "ipython3",
   "version": "3.6.9"
  }
 },
 "nbformat": 4,
 "nbformat_minor": 2
}
